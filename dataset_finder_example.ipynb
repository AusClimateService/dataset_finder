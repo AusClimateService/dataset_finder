{
 "cells": [
  {
   "cell_type": "code",
   "execution_count": null,
   "id": "a7a69e36-546a-48d2-8c2e-2f53a0c4ce3d",
   "metadata": {},
   "outputs": [],
   "source": [
    "import sys\n",
    "import xarray as xr"
   ]
  },
  {
   "cell_type": "code",
   "execution_count": null,
   "id": "9ac7d81f-6adf-4d65-b642-558a30ec0b7e",
   "metadata": {},
   "outputs": [],
   "source": [
    "cd ACS/Tools"
   ]
  },
  {
   "cell_type": "code",
   "execution_count": null,
   "id": "b5fb627e-18ea-4c56-8213-29989cf208e8",
   "metadata": {},
   "outputs": [],
   "source": [
    "# the preceeding cd line will depend on your working directory\n",
    "from dataset_finder import *"
   ]
  },
  {
   "cell_type": "code",
   "execution_count": null,
   "id": "839fb6f7-d35b-4152-931e-9515ae761d18",
   "metadata": {},
   "outputs": [],
   "source": [
    "get_datasets(\"ACS_DD\", org = \"BOM\", gcm = \"ACCESS\")"
   ]
  },
  {
   "cell_type": "code",
   "execution_count": null,
   "id": "5f76f044-b062-4056-9006-f81788d7b4a7",
   "metadata": {},
   "outputs": [],
   "source": [
    "all_data = get_datasets(\"ACS_BC\", bc = \"QME\", ref = \"BARRA\", gcm = \"ACCESS\").includes(var = \"sfcWindmax\")\n",
    "all_data"
   ]
  },
  {
   "cell_type": "code",
   "execution_count": null,
   "id": "30bbd20c-b466-42aa-9261-02680d9b9ddd",
   "metadata": {},
   "outputs": [],
   "source": [
    "single_dataset = all_data[0]\n",
    "single_dataset"
   ]
  },
  {
   "cell_type": "code",
   "execution_count": null,
   "id": "fa9fd770-a3ac-478d-89fa-f2be7cb4c7b0",
   "metadata": {},
   "outputs": [],
   "source": [
    "single_dataset.print_info()"
   ]
  },
  {
   "cell_type": "code",
   "execution_count": null,
   "id": "4e7492a5-6701-4347-ba0f-27ff06a3b804",
   "metadata": {},
   "outputs": [],
   "source": [
    "%%time\n",
    "single_dataset.select(var = \"hursmax\", year = year_range(1980, 1990))\n",
    "loaded_data = xr.open_mfdataset(single_dataset)\n",
    "loaded_data"
   ]
  },
  {
   "cell_type": "code",
   "execution_count": null,
   "id": "1bdb7afb-5d62-42f1-ae83-dbe5a2a26abb",
   "metadata": {},
   "outputs": [],
   "source": [
    "multi_dataset = get_datasets(\"ACS_BC\", org = \"BOM\", gcm = \"ACCESS-ESM1-5\", empat = (\"hist\", \"ssp370\"), bc = \"QME\", ref = \"AGCD\")\n",
    "multi_dataset"
   ]
  },
  {
   "cell_type": "code",
   "execution_count": null,
   "id": "2dd7e652-96df-4755-bdaa-52b97c8d03c9",
   "metadata": {},
   "outputs": [],
   "source": [
    "%%time\n",
    "full_data = xr.open_mfdataset(multi_dataset, parallel = True)\n",
    "full_data"
   ]
  },
  {
   "cell_type": "code",
   "execution_count": null,
   "id": "bc5afafa-0d95-49bd-93a0-d963630d78df",
   "metadata": {},
   "outputs": [],
   "source": []
  }
 ],
 "metadata": {
  "kernelspec": {
   "display_name": "Python [conda env:analysis3]",
   "language": "python",
   "name": "conda-env-analysis3-py"
  },
  "language_info": {
   "codemirror_mode": {
    "name": "ipython",
    "version": 3
   },
   "file_extension": ".py",
   "mimetype": "text/x-python",
   "name": "python",
   "nbconvert_exporter": "python",
   "pygments_lexer": "ipython3",
   "version": "3.10.14"
  }
 },
 "nbformat": 4,
 "nbformat_minor": 5
}
